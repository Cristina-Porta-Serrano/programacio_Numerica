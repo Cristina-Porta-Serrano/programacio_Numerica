{
 "cells": [
  {
   "cell_type": "markdown",
   "id": "c8447796",
   "metadata": {},
   "source": [
    "#**S02 T04**#"
   ]
  },
  {
   "cell_type": "code",
   "execution_count": 1,
   "id": "1410702c",
   "metadata": {},
   "outputs": [],
   "source": [
    "import numpy as np\n",
    "import pandas as pd"
   ]
  },
  {
   "cell_type": "markdown",
   "id": "0055f37d",
   "metadata": {},
   "source": [
    "##*Exercice 1*##"
   ]
  },
  {
   "cell_type": "markdown",
   "id": "1ca959ef",
   "metadata": {},
   "source": [
    "*Crea una funció que donat un Array d’una dimensió, et faci un resum estadístic bàsic de les dades. Si detecta que l’array té més d’una dimensió, ha de mostrar un missatge d’error.*"
   ]
  },
  {
   "cell_type": "code",
   "execution_count": 21,
   "id": "93a2ccd9",
   "metadata": {},
   "outputs": [
    {
     "data": {
      "text/html": [
       "<div>\n",
       "<style scoped>\n",
       "    .dataframe tbody tr th:only-of-type {\n",
       "        vertical-align: middle;\n",
       "    }\n",
       "\n",
       "    .dataframe tbody tr th {\n",
       "        vertical-align: top;\n",
       "    }\n",
       "\n",
       "    .dataframe thead th {\n",
       "        text-align: right;\n",
       "    }\n",
       "</style>\n",
       "<table border=\"1\" class=\"dataframe\">\n",
       "  <thead>\n",
       "    <tr style=\"text-align: right;\">\n",
       "      <th></th>\n",
       "      <th>0</th>\n",
       "    </tr>\n",
       "  </thead>\n",
       "  <tbody>\n",
       "    <tr>\n",
       "      <th>count</th>\n",
       "      <td>10.000000</td>\n",
       "    </tr>\n",
       "    <tr>\n",
       "      <th>mean</th>\n",
       "      <td>11.000000</td>\n",
       "    </tr>\n",
       "    <tr>\n",
       "      <th>std</th>\n",
       "      <td>6.055301</td>\n",
       "    </tr>\n",
       "    <tr>\n",
       "      <th>min</th>\n",
       "      <td>2.000000</td>\n",
       "    </tr>\n",
       "    <tr>\n",
       "      <th>25%</th>\n",
       "      <td>6.500000</td>\n",
       "    </tr>\n",
       "    <tr>\n",
       "      <th>50%</th>\n",
       "      <td>11.000000</td>\n",
       "    </tr>\n",
       "    <tr>\n",
       "      <th>75%</th>\n",
       "      <td>15.500000</td>\n",
       "    </tr>\n",
       "    <tr>\n",
       "      <th>max</th>\n",
       "      <td>20.000000</td>\n",
       "    </tr>\n",
       "  </tbody>\n",
       "</table>\n",
       "</div>"
      ],
      "text/plain": [
       "               0\n",
       "count  10.000000\n",
       "mean   11.000000\n",
       "std     6.055301\n",
       "min     2.000000\n",
       "25%     6.500000\n",
       "50%    11.000000\n",
       "75%    15.500000\n",
       "max    20.000000"
      ]
     },
     "execution_count": 21,
     "metadata": {},
     "output_type": "execute_result"
    }
   ],
   "source": [
    "one_dimension_array = np.array([2, 4, 6, 8, 10, 12, 14, 16, 18, 20])\n",
    "\n",
    "def statistic_summary():\n",
    "    if one_dimension_array.ndim != 1:\n",
    "        print(\"Error, the array is multidimensional.\")\n",
    "    df_describe = pd.DataFrame(one_dimension_array)\n",
    "    return df_describe.describe()\n",
    "\n",
    "statistic_summary()"
   ]
  },
  {
   "cell_type": "markdown",
   "id": "0dd03d80",
   "metadata": {},
   "source": [
    "##*Exercice 2*##"
   ]
  },
  {
   "cell_type": "markdown",
   "id": "d21b3551",
   "metadata": {},
   "source": [
    "*Crea una funció que et generi un quadrat NxN de nombres aleatoris entre el 0 i el 100.*"
   ]
  },
  {
   "cell_type": "code",
   "execution_count": 22,
   "id": "add9c3bd",
   "metadata": {},
   "outputs": [
    {
     "data": {
      "text/plain": [
       "array([[91, 54,  2,  9, 59, 47],\n",
       "       [12, 92, 56, 87, 10, 42],\n",
       "       [84, 63, 48, 60, 78, 67],\n",
       "       [91,  9,  3,  8, 32, 35],\n",
       "       [84, 73, 83, 82, 98, 62],\n",
       "       [50, 86, 72, 97, 49,  0]])"
      ]
     },
     "execution_count": 22,
     "metadata": {},
     "output_type": "execute_result"
    }
   ],
   "source": [
    "def create_matrix():\n",
    "    return np.random.randint(0, 100, (6, 6))\n",
    "    \n",
    "create_matrix()"
   ]
  },
  {
   "cell_type": "markdown",
   "id": "05a6f528",
   "metadata": {},
   "source": [
    "##*Exercice 3*##"
   ]
  },
  {
   "cell_type": "markdown",
   "id": "9fac4c08",
   "metadata": {},
   "source": [
    "*Crea una funció que donada una taula de dues dimensions, et calculi els totals per fila i els totals per columna.*"
   ]
  },
  {
   "cell_type": "markdown",
   "id": "579a08c2",
   "metadata": {},
   "source": [
    "First attempt:"
   ]
  },
  {
   "cell_type": "code",
   "execution_count": 54,
   "id": "72b64974",
   "metadata": {},
   "outputs": [
    {
     "name": "stdout",
     "output_type": "stream",
     "text": [
      "The sum of 1 row is 12\n",
      "The sum of 2 row is 9\n",
      "The sum of 3 row is 14\n",
      "The sum of 1 column is 11\n",
      "The sum of 2 column is 9\n",
      "The sum of 3 column is 15\n"
     ]
    }
   ],
   "source": [
    "two_dimension_array = [    \n",
    "                        [2, 4, 6],  \n",
    "                        [1, 3, 5],  \n",
    "                        [8, 2, 4]  \n",
    "                        ];  \n",
    "def sum_rows_cols():\n",
    "    rows = len(two_dimension_array);  \n",
    "    cols = len(two_dimension_array[0]); \n",
    "\n",
    "    for i in range(0, rows):  \n",
    "        sumRow = 0  \n",
    "        for j in range(0, cols):  \n",
    "            sumRow = sumRow + two_dimension_array[i][j];  \n",
    "        print(\"The sum of \" + str(i+1) +\" row is \" + str(sumRow));  \n",
    "    \n",
    "    for i in range(0, rows):  \n",
    "        sumCol = 0  \n",
    "        for j in range(0, cols):  \n",
    "            sumCol = sumCol + two_dimension_array[j][i];  \n",
    "        print(\"The sum of \" + str(i+1) +\" column is \" + str(sumCol));\n",
    "        \n",
    "sum_rows_cols()"
   ]
  },
  {
   "cell_type": "markdown",
   "id": "43e39dcb",
   "metadata": {},
   "source": [
    "Second attempt:"
   ]
  },
  {
   "cell_type": "code",
   "execution_count": 45,
   "id": "cfbc3b43",
   "metadata": {},
   "outputs": [
    {
     "name": "stdout",
     "output_type": "stream",
     "text": [
      "[12  9 14]\n",
      "[11  9 15]\n"
     ]
    }
   ],
   "source": [
    "two_dimension_array2 = np.array([[2, 4, 6],[1, 3, 5],[8, 2, 4]]); \n",
    "\n",
    "def sum_rows():\n",
    "    return np.sum(two_dimension_array2, axis=1)\n",
    "\n",
    "def sum_cols():\n",
    "    return np.sum(two_dimension_array2, axis=0)\n",
    "\n",
    "print(sum_rows())\n",
    "print(sum_cols())"
   ]
  },
  {
   "cell_type": "markdown",
   "id": "abac4512",
   "metadata": {},
   "source": [
    "##*Exercice 4*##"
   ]
  },
  {
   "cell_type": "markdown",
   "id": "b19b1859",
   "metadata": {},
   "source": [
    "*Implementa manualment una funció que calculi el coeficient de correlació. Informa’t-en sobre els seus usos i interpretació.*"
   ]
  },
  {
   "cell_type": "markdown",
   "id": "e55826ad",
   "metadata": {},
   "source": [
    "Primer calculem la covariancia, que és el valor que reflexa en quina quantitat dues variables varien de forma conjunta respecte a les seves mitjanes."
   ]
  },
  {
   "cell_type": "code",
   "execution_count": 32,
   "id": "db5f931d",
   "metadata": {},
   "outputs": [
    {
     "name": "stdout",
     "output_type": "stream",
     "text": [
      "[[16  3  6 10 13  7]\n",
      " [ 4 14 11  0 19 18]]\n",
      "9.166666666666666\n",
      "11.0\n",
      "6\n",
      "[ 64  42  66   0 247 126]\n",
      "545\n",
      "-10.0\n"
     ]
    }
   ],
   "source": [
    "x = np.random.randint(0,20,(2,6))\n",
    "print(x)\n",
    "\n",
    "x_mean = x[0].mean() # first row\n",
    "print(x_mean)\n",
    "\n",
    "y_mean = x[1].mean() # second row\n",
    "print(y_mean)\n",
    "\n",
    "items = len(x[1])\n",
    "print(items)\n",
    "\n",
    "mult_row_col = np.prod(x, axis=0)\n",
    "print(mult_row_col)\n",
    "row_col = np.sum(mult_row_col)\n",
    "print(row_col)\n",
    "cov = (row_col/items) - (x_mean * y_mean)\n",
    "print(cov)"
   ]
  },
  {
   "cell_type": "markdown",
   "id": "0ffea86f",
   "metadata": {},
   "source": [
    "Després, calculem les desviacions estàndard, mesura que s'utiliza per a quantificar la variació o la dispersió d'un conjunt de dades numèriques."
   ]
  },
  {
   "cell_type": "code",
   "execution_count": 40,
   "id": "c7985869",
   "metadata": {},
   "outputs": [
    {
     "name": "stdout",
     "output_type": "stream",
     "text": [
      "[[256   9  36 100 169  49]\n",
      " [ 16 196 121   0 361 324]]\n",
      "[ 619 1018]\n",
      "4.37480158280223\n",
      "6.976149845485449\n"
     ]
    }
   ],
   "source": [
    "square_x = np.square(x)\n",
    "print(square_x)\n",
    "\n",
    "sum_square_x_row = np.sum(square_x, axis = 1)\n",
    "print(sum_square_x_row)\n",
    "\n",
    "std_1 = np.sqrt((sum_square_x_row[0] / items) - np.square(x_mean))\n",
    "print(std_1)\n",
    "std_2 = np.sqrt((sum_square_x_row[1] / items) - np.square(y_mean))\n",
    "print(std_2)"
   ]
  },
  {
   "cell_type": "markdown",
   "id": "572ae749",
   "metadata": {},
   "source": [
    "Finalment, calculem el coeficient de correlació lineal, que és la covariància entre les multiplicacions de les desviacions estàndard."
   ]
  },
  {
   "cell_type": "code",
   "execution_count": 41,
   "id": "dbbf5828",
   "metadata": {},
   "outputs": [
    {
     "name": "stdout",
     "output_type": "stream",
     "text": [
      "-0.32766181975830455\n"
     ]
    }
   ],
   "source": [
    "corr_coef = cov / (std_1 * std_2)\n",
    "print(corr_coef)"
   ]
  },
  {
   "cell_type": "markdown",
   "id": "00b17609",
   "metadata": {},
   "source": [
    "Com que el coeficient és més proper a 0 que a 1, és una correlació dèbil. A més, com és negatiu, la correlació és inversa."
   ]
  },
  {
   "cell_type": "markdown",
   "id": "6b87be80",
   "metadata": {},
   "source": [
    "Ara, comprovem amb la funció predefinida de numpy si el resultat és correcte."
   ]
  },
  {
   "cell_type": "code",
   "execution_count": 43,
   "id": "3ed5bdac",
   "metadata": {},
   "outputs": [
    {
     "name": "stdout",
     "output_type": "stream",
     "text": [
      "[[ 1.         -0.32766182]\n",
      " [-0.32766182  1.        ]]\n"
     ]
    }
   ],
   "source": [
    "r = np.corrcoef(x[0],x[1])\n",
    "print(r)"
   ]
  }
 ],
 "metadata": {
  "kernelspec": {
   "display_name": "Python 3 (ipykernel)",
   "language": "python",
   "name": "python3"
  },
  "language_info": {
   "codemirror_mode": {
    "name": "ipython",
    "version": 3
   },
   "file_extension": ".py",
   "mimetype": "text/x-python",
   "name": "python",
   "nbconvert_exporter": "python",
   "pygments_lexer": "ipython3",
   "version": "3.9.7"
  }
 },
 "nbformat": 4,
 "nbformat_minor": 5
}
